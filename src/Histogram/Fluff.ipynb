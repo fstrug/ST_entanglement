{
 "cells": [
  {
   "cell_type": "code",
   "execution_count": null,
   "id": "18f81608-4b67-4da7-8a77-e41c4b6dea29",
   "metadata": {},
   "outputs": [],
   "source": [
    "import uproot\n",
    "uproot.open(\"root://xrootd-cms.infn.it:1194//store/mc/RunIISummer16NanoAODv7/ST_tWll_5f_LO_13TeV-MadGraph-pythia8/NANOAODSIM/PUMoriond17_Nano02Apr2020_102X_mcRun2_asymptotic_v8-v1/100000/BCE535BA-ACD4-B647-9C4D-7BA2787A053D.root\")"
   ]
  }
 ],
 "metadata": {
  "kernelspec": {
   "display_name": "Python [conda env:coffea2024]",
   "language": "python",
   "name": "conda-env-coffea2024-py"
  },
  "language_info": {
   "codemirror_mode": {
    "name": "ipython",
    "version": 3
   },
   "file_extension": ".py",
   "mimetype": "text/x-python",
   "name": "python",
   "nbconvert_exporter": "python",
   "pygments_lexer": "ipython3",
   "version": "3.10.13"
  }
 },
 "nbformat": 4,
 "nbformat_minor": 5
}
